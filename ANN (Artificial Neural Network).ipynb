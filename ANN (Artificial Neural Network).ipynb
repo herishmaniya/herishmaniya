{
  "cells": [
    {
      "cell_type": "code",
      "execution_count": null,
      "metadata": {
        "colab": {
          "base_uri": "https://localhost:8080/"
        },
        "id": "oaVx4Ld4oALD",
        "outputId": "6acefe15-bc8d-4566-8b38-13f47eec4e34"
      },
      "outputs": [
        {
          "output_type": "stream",
          "name": "stdout",
          "text": [
            "Mounted at /content/drive\n"
          ]
        }
      ],
      "source": [
        "#Mount Drive\n",
        "from google.colab import drive\n",
        "drive.mount('/content/drive')"
      ]
    },
    {
      "cell_type": "code",
      "execution_count": null,
      "metadata": {
        "id": "uwngqO7Fn7MW"
      },
      "outputs": [],
      "source": [
        "#Necessary Imports\n",
        "import torch \n",
        "import torch.nn as nn\n",
        "import torch.nn.functional as F\n",
        "from torch.utils.data import DataLoader\n",
        "from torchvision import datasets, transforms, models\n",
        "from torchvision.utils import make_grid\n",
        "import os\n",
        "from torchvision import transforms\n",
        "\n",
        "from tensorflow.keras.preprocessing.image import img_to_array\n",
        "\n",
        "from sklearn.metrics import confusion_matrix,f1_score,recall_score,precision_score\n",
        "import itertools\n",
        "import numpy as np\n",
        "import pandas as pd\n",
        "import matplotlib.pyplot as plt \n",
        "%matplotlib inline"
      ]
    },
    {
      "cell_type": "code",
      "execution_count": null,
      "metadata": {
        "colab": {
          "base_uri": "https://localhost:8080/"
        },
        "id": "fBOTd0EqoHZj",
        "outputId": "c5992e41-1c59-4549-b461-1bb8856979ab"
      },
      "outputs": [
        {
          "output_type": "stream",
          "name": "stderr",
          "text": [
            "/usr/local/lib/python3.7/dist-packages/PIL/Image.py:960: UserWarning: Palette images with Transparency expressed in bytes should be converted to RGBA images\n",
            "  \"Palette images with Transparency expressed in bytes should be \"\n"
          ]
        }
      ],
      "source": [
        "#Loading data\n",
        "from tensorflow.keras.utils import load_img\n",
        "\n",
        "path = '/content/drive/MyDrive/Colab Notebooks/final/final/train'\n",
        "\n",
        "train_x = []\n",
        "train_y = []\n",
        "\n",
        "# k = 0\n",
        "label = 0\n",
        "\n",
        "for i in os.listdir(path):    # loop inside each folder\n",
        "  \n",
        "  folder_path = os.path.join(path,i)    # updating path till folder\n",
        "  for j in os.listdir(folder_path):   # loop for each image inside class\n",
        "    img = load_img(os.path.join(folder_path,j), target_size=(128,128))   # Loding image with target size\n",
        "    img = img_to_array(img)    # convert image into array\n",
        "    train_x.append(img)     # append img array to list\n",
        "    train_y.append(int(label))  #converting label in to integer and append it to list\n",
        "  label += 1\n",
        "    # break\n",
        "  # break\n",
        "train_x = np.array(train_x)\n",
        "train_y = np.array(train_y)\n",
        "\n"
      ]
    },
    {
      "cell_type": "code",
      "execution_count": null,
      "metadata": {
        "colab": {
          "base_uri": "https://localhost:8080/"
        },
        "id": "Mh8yGk-aXJYe",
        "outputId": "daac6fce-2afd-4ba6-ff05-ebc0081e33aa"
      },
      "outputs": [
        {
          "output_type": "stream",
          "name": "stdout",
          "text": [
            "shape of x_train:  (10666, 128, 128, 3)\n",
            "shape of x_train:  (10666,)\n"
          ]
        }
      ],
      "source": [
        "print(\"shape of x_train: \", train_x.shape)\n",
        "print(\"shape of x_train: \", train_y.shape)"
      ]
    },
    {
      "cell_type": "code",
      "execution_count": null,
      "metadata": {
        "id": "W1LKbpzjoIbt"
      },
      "outputs": [],
      "source": [
        "from tensorflow.keras.utils import load_img\n",
        "\n",
        "path = '/content/drive/MyDrive/Colab Notebooks/final/final/test'\n",
        "\n",
        "test_x = []\n",
        "test_y = []\n",
        "\n",
        "label = 0\n",
        "for i in os.listdir(path):\n",
        "  \n",
        "  folder_path = os.path.join(path,i)\n",
        "  for j in os.listdir(folder_path):\n",
        "    img = load_img(os.path.join(folder_path,j), target_size=(128,128))   #loding image with target size\n",
        "    img = img_to_array(img)\n",
        "    test_x.append(img) \n",
        "    test_y.append(int(label))   #converting label in to integer\n",
        "  label += 1\n",
        "\n",
        "test_x = np.array(test_x)\n",
        "test_y = np.array(test_y)\n"
      ]
    },
    {
      "cell_type": "code",
      "execution_count": null,
      "metadata": {
        "colab": {
          "base_uri": "https://localhost:8080/"
        },
        "id": "KNC8LP9qEIHI",
        "outputId": "d4434e3b-7793-460f-f9fd-8dc3a7843d9f"
      },
      "outputs": [
        {
          "output_type": "stream",
          "name": "stdout",
          "text": [
            "shape of x_test:  (5876, 128, 128, 3)\n",
            "shape of x_test:  (5876,)\n"
          ]
        }
      ],
      "source": [
        "print(\"shape of x_test: \", test_x.shape)\n",
        "print(\"shape of x_test: \", test_y.shape)"
      ]
    },
    {
      "cell_type": "code",
      "execution_count": null,
      "metadata": {
        "id": "H7BPd-hioKVT"
      },
      "outputs": [],
      "source": [
        "#converting in to 1D Array\n",
        "train_x /= 255.\n",
        "test_x /= 255."
      ]
    },
    {
      "cell_type": "code",
      "execution_count": null,
      "metadata": {
        "id": "ua3Mj3uhoMZo"
      },
      "outputs": [],
      "source": [
        "from sklearn.utils import shuffle\n",
        "\n",
        "d = shuffle(train_x, train_y)   #shuffle data"
      ]
    },
    {
      "cell_type": "code",
      "execution_count": null,
      "metadata": {
        "id": "-cfwRRBWoOCM"
      },
      "outputs": [],
      "source": [
        "from sklearn.model_selection import train_test_split\n",
        "x = d[0]\n",
        "y = d[1]\n",
        "\n",
        "X_train, X_test, y_train, y_test = train_test_split(x, y, test_size=0.2, random_state=12)  #split 80/20 for training and testing"
      ]
    },
    {
      "cell_type": "code",
      "execution_count": null,
      "metadata": {
        "id": "EKPoNjVboXPQ"
      },
      "outputs": [],
      "source": [
        "# reshape data\n",
        "X_train = X_train.reshape((X_train.shape[0], X_train.shape[1]*X_train.shape[2]*X_train.shape[3]))\n",
        "X_test = X_test.reshape((X_test.shape[0], X_test.shape[1]*X_test.shape[2]*X_test.shape[3]))"
      ]
    },
    {
      "cell_type": "code",
      "execution_count": null,
      "metadata": {
        "id": "F5CT6o3koZ3Z"
      },
      "outputs": [],
      "source": [
        "from tensorflow.keras.models import  Sequential\n",
        "from tensorflow.keras.layers import  MaxPooling2D,BatchNormalization,Dense,Flatten,Dropout"
      ]
    },
    {
      "cell_type": "code",
      "execution_count": null,
      "metadata": {
        "id": "vaXQEBL-ocAP"
      },
      "outputs": [],
      "source": [
        "#Build the Model\n",
        "model = Sequential([\n",
        "    Flatten(),\n",
        "    Dense(128, activation= 'relu'),\n",
        "    Dropout(0.2),\n",
        "    Dense(5, activation='softmax')\n",
        "])"
      ]
    },
    {
      "cell_type": "code",
      "execution_count": null,
      "metadata": {
        "id": "O6gJC-KZooU1"
      },
      "outputs": [],
      "source": [
        "#Compile & Train the model\n",
        "model.compile(optimizer='adam',\n",
        "              loss='sparse_categorical_crossentropy',\n",
        "              metrics=['accuracy'])   #calculates how often prediction equal lables"
      ]
    },
    {
      "cell_type": "code",
      "execution_count": null,
      "metadata": {
        "colab": {
          "base_uri": "https://localhost:8080/"
        },
        "id": "LZ9ywCT4pA5e",
        "outputId": "3855f909-03e4-43b0-8290-818835210172"
      },
      "outputs": [
        {
          "output_type": "stream",
          "name": "stdout",
          "text": [
            "Epoch 1/20\n",
            "267/267 [==============================] - 13s 44ms/step - loss: 1.8334 - accuracy: 0.6704 - val_loss: 0.6750 - val_accuracy: 0.7760\n",
            "Epoch 2/20\n",
            "267/267 [==============================] - 12s 45ms/step - loss: 0.7551 - accuracy: 0.7167 - val_loss: 0.6338 - val_accuracy: 0.7732\n",
            "Epoch 3/20\n",
            "267/267 [==============================] - 12s 44ms/step - loss: 0.7349 - accuracy: 0.7186 - val_loss: 0.6261 - val_accuracy: 0.7746\n",
            "Epoch 4/20\n",
            "267/267 [==============================] - 12s 44ms/step - loss: 0.8240 - accuracy: 0.6501 - val_loss: 0.6863 - val_accuracy: 0.7427\n",
            "Epoch 5/20\n",
            "267/267 [==============================] - 12s 43ms/step - loss: 0.7448 - accuracy: 0.7079 - val_loss: 0.6395 - val_accuracy: 0.7830\n",
            "Epoch 6/20\n",
            "267/267 [==============================] - 12s 47ms/step - loss: 0.7140 - accuracy: 0.7223 - val_loss: 0.5985 - val_accuracy: 0.7910\n",
            "Epoch 7/20\n",
            "267/267 [==============================] - 12s 44ms/step - loss: 0.7131 - accuracy: 0.7233 - val_loss: 0.6075 - val_accuracy: 0.7746\n",
            "Epoch 8/20\n",
            "267/267 [==============================] - 12s 44ms/step - loss: 0.6988 - accuracy: 0.7242 - val_loss: 0.5938 - val_accuracy: 0.7798\n",
            "Epoch 9/20\n",
            "267/267 [==============================] - 12s 43ms/step - loss: 0.7045 - accuracy: 0.7187 - val_loss: 0.6021 - val_accuracy: 0.7966\n",
            "Epoch 10/20\n",
            "267/267 [==============================] - 12s 43ms/step - loss: 0.6837 - accuracy: 0.7254 - val_loss: 0.5794 - val_accuracy: 0.7868\n",
            "Epoch 11/20\n",
            "267/267 [==============================] - 11s 43ms/step - loss: 0.6891 - accuracy: 0.7216 - val_loss: 0.5831 - val_accuracy: 0.7826\n",
            "Epoch 12/20\n",
            "267/267 [==============================] - 11s 43ms/step - loss: 0.6919 - accuracy: 0.7201 - val_loss: 0.6242 - val_accuracy: 0.7774\n",
            "Epoch 13/20\n",
            "267/267 [==============================] - 11s 43ms/step - loss: 0.6796 - accuracy: 0.7335 - val_loss: 0.5973 - val_accuracy: 0.7887\n",
            "Epoch 14/20\n",
            "267/267 [==============================] - 12s 47ms/step - loss: 0.6726 - accuracy: 0.7278 - val_loss: 0.5930 - val_accuracy: 0.7891\n",
            "Epoch 15/20\n",
            "267/267 [==============================] - 11s 43ms/step - loss: 0.6705 - accuracy: 0.7283 - val_loss: 0.6829 - val_accuracy: 0.7226\n",
            "Epoch 16/20\n",
            "267/267 [==============================] - 11s 43ms/step - loss: 0.6716 - accuracy: 0.7328 - val_loss: 0.6551 - val_accuracy: 0.7680\n",
            "Epoch 17/20\n",
            "267/267 [==============================] - 11s 43ms/step - loss: 0.6582 - accuracy: 0.7390 - val_loss: 0.5872 - val_accuracy: 0.7891\n",
            "Epoch 18/20\n",
            "267/267 [==============================] - 12s 43ms/step - loss: 0.6753 - accuracy: 0.7294 - val_loss: 0.5758 - val_accuracy: 0.7966\n",
            "Epoch 19/20\n",
            "267/267 [==============================] - 12s 43ms/step - loss: 0.6667 - accuracy: 0.7365 - val_loss: 0.5879 - val_accuracy: 0.7901\n",
            "Epoch 20/20\n",
            "267/267 [==============================] - 11s 43ms/step - loss: 0.6663 - accuracy: 0.7318 - val_loss: 0.6253 - val_accuracy: 0.7779\n"
          ]
        }
      ],
      "source": [
        "r = model.fit(X_train, y_train, validation_data=(X_test, y_test), epochs=20)"
      ]
    },
    {
      "cell_type": "code",
      "source": [
        "\n",
        "model.summary()"
      ],
      "metadata": {
        "colab": {
          "base_uri": "https://localhost:8080/"
        },
        "id": "V7OLgYcjN2Z_",
        "outputId": "f0b473db-6fd7-4702-9d76-a4a5426f3a55"
      },
      "execution_count": null,
      "outputs": [
        {
          "output_type": "stream",
          "name": "stdout",
          "text": [
            "Model: \"sequential\"\n",
            "_________________________________________________________________\n",
            " Layer (type)                Output Shape              Param #   \n",
            "=================================================================\n",
            " flatten (Flatten)           (None, 49152)             0         \n",
            "                                                                 \n",
            " dense (Dense)               (None, 128)               6291584   \n",
            "                                                                 \n",
            " dropout (Dropout)           (None, 128)               0         \n",
            "                                                                 \n",
            " dense_1 (Dense)             (None, 5)                 645       \n",
            "                                                                 \n",
            "=================================================================\n",
            "Total params: 6,292,229\n",
            "Trainable params: 6,292,229\n",
            "Non-trainable params: 0\n",
            "_________________________________________________________________\n"
          ]
        }
      ]
    },
    {
      "cell_type": "code",
      "execution_count": null,
      "metadata": {
        "id": "hETqSydopDA9",
        "colab": {
          "base_uri": "https://localhost:8080/",
          "height": 282
        },
        "outputId": "61fed343-d461-4e2f-c35f-f995a3547f1d"
      },
      "outputs": [
        {
          "output_type": "execute_result",
          "data": {
            "text/plain": [
              "<matplotlib.legend.Legend at 0x7f97f0355210>"
            ]
          },
          "metadata": {},
          "execution_count": 16
        },
        {
          "output_type": "display_data",
          "data": {
            "text/plain": [
              "<Figure size 432x288 with 1 Axes>"
            ],
            "image/png": "[encoded data removed]"
          },
          "metadata": {
            "needs_background": "light"
          }
        }
      ],
      "source": [
        "#Plotting Loss per Iteration\n",
        "plt.plot(r.history['loss'], label= 'loss')\n",
        "plt.plot(r.history['val_loss'], label= 'val_loss')\n",
        "plt.legend()"
      ]
    },
    {
      "cell_type": "code",
      "execution_count": null,
      "metadata": {
        "id": "wPmWv8D1qS2e",
        "colab": {
          "base_uri": "https://localhost:8080/",
          "height": 282
        },
        "outputId": "aa7f98ab-2eb9-4995-834c-7426d2b10b09"
      },
      "outputs": [
        {
          "output_type": "execute_result",
          "data": {
            "text/plain": [
              "<matplotlib.legend.Legend at 0x7f97ecea7110>"
            ]
          },
          "metadata": {},
          "execution_count": 17
        },
        {
          "output_type": "display_data",
          "data": {
            "text/plain": [
              "<Figure size 432x288 with 1 Axes>"
            ],
            "image/png": "[encoded data removed]"
          },
          "metadata": {
            "needs_background": "light"
          }
        }
      ],
      "source": [
        "#Plotting Accuracy per Iteration\n",
        "plt.plot(r.history['accuracy'], label= 'accuracy')\n",
        "plt.plot(r.history['val_accuracy'], label= 'val_accuracy')\n",
        "plt.legend()"
      ]
    },
    {
      "cell_type": "code",
      "execution_count": null,
      "metadata": {
        "id": "rr8kjk9lqTTZ",
        "colab": {
          "base_uri": "https://localhost:8080/"
        },
        "outputId": "7c54a91a-c001-4b7b-c890-484a74aca725"
      },
      "outputs": [
        {
          "output_type": "stream",
          "name": "stdout",
          "text": [
            "67/67 [==============================] - 1s 10ms/step - loss: 0.6253 - accuracy: 0.7779\n",
            "[0.6252636909484863, 0.777881920337677]\n"
          ]
        }
      ],
      "source": [
        "#Model Evaluation\n",
        "print(model.evaluate(X_test, y_test))"
      ]
    },
    {
      "cell_type": "code",
      "execution_count": null,
      "metadata": {
        "id": "AW8y9XB2qVQd",
        "colab": {
          "base_uri": "https://localhost:8080/",
          "height": 467
        },
        "outputId": "445a2dea-311b-4d57-9b78-b40ab6b307a6"
      },
      "outputs": [
        {
          "output_type": "stream",
          "name": "stdout",
          "text": [
            "Confusion matrix without normalization\n",
            "[[ 238    0   17    0   42]\n",
            " [ 149    0   13    0    5]\n",
            " [ 132    0  179    0   11]\n",
            " [  49    0    5    0    1]\n",
            " [  50    0    0    0 1243]]\n"
          ]
        },
        {
          "output_type": "display_data",
          "data": {
            "text/plain": [
              "<Figure size 432x288 with 2 Axes>"
            ],
            "image/png": "[encoded data removed]"
          },
          "metadata": {
            "needs_background": "light"
          }
        },
        {
          "output_type": "stream",
          "name": "stdout",
          "text": [
            "F1 Score:0.7778819119025304\n",
            "Recall Score:0.7778819119025304\n",
            "Precision Score0.7778819119025304\n"
          ]
        }
      ],
      "source": [
        "#Confusion Matrix\n",
        "\n",
        "\n",
        "def plot_confusion_matrix(cm, classes,\n",
        "                          normalize = False,\n",
        "                          title=\"Confusion Matrix\",\n",
        "                          cmap = plt.cm.Blues):\n",
        "  \n",
        "  \"\"\"\n",
        "  This function prints and plots the confusion matrix.\n",
        "  Normalize can be applied by setting 'normalize = True'\n",
        "  \"\"\"\n",
        "  \n",
        "  if normalize:\n",
        "    cm = cm.astype('float') / cm.sum(axis=1)[:,np.newaxis]\n",
        "    print(\"Normalized Confusion Matrix\")\n",
        "  \n",
        "  else:\n",
        "    print(\"Confusion matrix without normalization\")\n",
        "  \n",
        "  print(cm)\n",
        "\n",
        "  plt.imshow(cm, interpolation='nearest', cmap=cmap)\n",
        "  plt.title(title)\n",
        "  plt.colorbar()\n",
        "  tick_marks = np.arange(len(classes))\n",
        "  plt.xticks(tick_marks, classes, rotation=45)\n",
        "  plt.yticks(tick_marks, classes)\n",
        "\n",
        "  fmt = '.2f' if normalize else 'd'\n",
        "  thresh = cm.max() / 2.\n",
        "  for i, j in itertools.product(range(cm.shape[0]), range(cm.shape[1])):\n",
        "    plt.text(j, i, format(cm[i, j], fmt),\n",
        "             horizontalalignment = 'center',\n",
        "             color = \"white\" if cm[i, j] > thresh else \"black\")\n",
        "    \n",
        "  plt.tight_layout()\n",
        "  plt.ylabel('True label')\n",
        "  plt.xlabel('Predicted label')\n",
        "  plt.show()\n",
        "\n",
        "p_test = model.predict(X_test).argmax(axis=1)\n",
        "cm = confusion_matrix(y_test, p_test)\n",
        "plot_confusion_matrix(cm, list(range(5)))\n",
        "\n",
        "print(\"F1 Score:\"+str(f1_score(y_test,p_test,average='micro')))\n",
        "print(\"Recall Score:\"+str(recall_score(y_test,p_test,average='micro')))\n",
        "print(\"Precision Score\"+str(precision_score(y_test,p_test,average='micro')))"
      ]
    }
  ],
  "metadata": {
    "colab": {
      "collapsed_sections": [],
      "name": "Herish_ANN.ipynb",
      "provenance": []
    },
    "kernelspec": {
      "display_name": "Python 3",
      "language": "python",
      "name": "python3"
    },
    "language_info": {
      "codemirror_mode": {
        "name": "ipython",
        "version": 3
      },
      "file_extension": ".py",
      "mimetype": "text/x-python",
      "name": "python",
      "nbconvert_exporter": "python",
      "pygments_lexer": "ipython3",
      "version": "3.6.13"
    }
  },
  "nbformat": 4,
  "nbformat_minor": 0
}