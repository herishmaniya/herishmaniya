{
  "nbformat": 4,
  "nbformat_minor": 0,
  "metadata": {
    "colab": {
      "name": "herish ANN.ipynb",
      "provenance": [],
      "collapsed_sections": []
    },
    "kernelspec": {
      "name": "python3",
      "display_name": "Python 3"
    },
    "language_info": {
      "name": "python"
    }
  },
  "cells": [
    {
      "cell_type": "code",
      "execution_count": 21,
      "metadata": {
        "id": "uwngqO7Fn7MW"
      },
      "outputs": [],
      "source": [
        "#Necessary Imports\n",
        "import torch \n",
        "import torch.nn as nn\n",
        "import torch.nn.functional as F\n",
        "from torch.utils.data import DataLoader\n",
        "from torchvision import datasets, transforms, models\n",
        "from torchvision.utils import make_grid\n",
        "import os\n",
        "from torchvision import transforms\n",
        "\n",
        "from tensorflow.keras.preprocessing.image import img_to_array\n",
        "\n",
        "\n",
        "import numpy as np\n",
        "import pandas as pd\n",
        "import matplotlib.pyplot as plt \n",
        "%matplotlib inline"
      ]
    },
    {
      "cell_type": "code",
      "source": [
        "#Mount Drive\n",
        "from google.colab import drive\n",
        "drive.mount('/content/drive')"
      ],
      "metadata": {
        "colab": {
          "base_uri": "https://localhost:8080/"
        },
        "id": "oaVx4Ld4oALD",
        "outputId": "f382828e-da5a-49d8-c6d4-a9b78d87f067"
      },
      "execution_count": 22,
      "outputs": [
        {
          "output_type": "stream",
          "name": "stdout",
          "text": [
            "Drive already mounted at /content/drive; to attempt to forcibly remount, call drive.mount(\"/content/drive\", force_remount=True).\n"
          ]
        }
      ]
    },
    {
      "cell_type": "code",
      "source": [
        "#Loading data\n",
        "from tensorflow.keras.utils import load_img\n",
        "\n",
        "path = '/content/drive/MyDrive/Colab Notebooks/final/final/train'\n",
        "\n",
        "train_x = []\n",
        "train_y = []\n",
        "\n",
        "# k = 0\n",
        "label = 0\n",
        "\n",
        "for i in os.listdir(path):\n",
        "  \n",
        "  folder_path = os.path.join(path,i)\n",
        "  for j in os.listdir(folder_path):\n",
        "    img = load_img(os.path.join(folder_path,j), target_size=(128,128))   # Loding image with target size\n",
        "    img = img_to_array(img)\n",
        "    train_x.append(img) \n",
        "    train_y.append(int(label))  #converting label in to integer\n",
        "  label += 1\n",
        "    # break\n",
        "  # break\n",
        "train_x = np.array(train_x)\n",
        "train_y = np.array(train_y)\n",
        "\n"
      ],
      "metadata": {
        "id": "fBOTd0EqoHZj",
        "colab": {
          "base_uri": "https://localhost:8080/"
        },
        "outputId": "0d7e0674-2b76-4e5a-8441-5ef3df45b8e8"
      },
      "execution_count": 23,
      "outputs": [
        {
          "output_type": "stream",
          "name": "stderr",
          "text": [
            "/usr/local/lib/python3.7/dist-packages/PIL/Image.py:960: UserWarning: Palette images with Transparency expressed in bytes should be converted to RGBA images\n",
            "  \"Palette images with Transparency expressed in bytes should be \"\n"
          ]
        }
      ]
    },
    {
      "cell_type": "code",
      "source": [
        "print(\"shape of x_train: \", train_x.shape)\n",
        "print(\"shape of x_train: \", train_y.shape)"
      ],
      "metadata": {
        "id": "Mh8yGk-aXJYe",
        "colab": {
          "base_uri": "https://localhost:8080/"
        },
        "outputId": "52604135-c073-43b6-98ea-61de5e1e164a"
      },
      "execution_count": 5,
      "outputs": [
        {
          "output_type": "stream",
          "name": "stdout",
          "text": [
            "shape of x_train:  (8690, 128, 128, 3)\n",
            "shape of x_train:  (8690,)\n"
          ]
        }
      ]
    },
    {
      "cell_type": "code",
      "source": [
        "from tensorflow.keras.utils import load_img\n",
        "\n",
        "path = '/content/drive/MyDrive/Colab Notebooks/final/final/test'\n",
        "\n",
        "test_x = []\n",
        "test_y = []\n",
        "\n",
        "label = 0\n",
        "for i in os.listdir(path):\n",
        "  \n",
        "  folder_path = os.path.join(path,i)\n",
        "  for j in os.listdir(folder_path):\n",
        "    img = load_img(os.path.join(folder_path,j), target_size=(128,128))   #loding image with target size\n",
        "    img = img_to_array(img)\n",
        "    test_x.append(img) \n",
        "    test_y.append(int(label))   #converting label in to integer\n",
        "  label += 1\n",
        "\n",
        "test_x = np.array(test_x)\n",
        "test_y = np.array(test_y)\n"
      ],
      "metadata": {
        "id": "W1LKbpzjoIbt"
      },
      "execution_count": 6,
      "outputs": []
    },
    {
      "cell_type": "code",
      "source": [
        "print(\"shape of x_test: \", test_x.shape)\n",
        "print(\"shape of x_test: \", test_y.shape)"
      ],
      "metadata": {
        "colab": {
          "base_uri": "https://localhost:8080/"
        },
        "id": "KNC8LP9qEIHI",
        "outputId": "fc88acd1-23e9-44c8-eb42-97a35905ae0c"
      },
      "execution_count": 7,
      "outputs": [
        {
          "output_type": "stream",
          "name": "stdout",
          "text": [
            "shape of x_test:  (9509, 128, 128, 3)\n",
            "shape of x_test:  (9509,)\n"
          ]
        }
      ]
    },
    {
      "cell_type": "code",
      "source": [
        "#converting in to 1D Array\n",
        "train_x /= 255.\n",
        "test_x /= 255."
      ],
      "metadata": {
        "id": "H7BPd-hioKVT"
      },
      "execution_count": 8,
      "outputs": []
    },
    {
      "cell_type": "code",
      "source": [
        "from sklearn.utils import shuffle\n",
        "\n",
        "d = shuffle(train_x, train_y)   #shuffle data"
      ],
      "metadata": {
        "id": "ua3Mj3uhoMZo"
      },
      "execution_count": 9,
      "outputs": []
    },
    {
      "cell_type": "code",
      "source": [
        "from sklearn.model_selection import train_test_split\n",
        "x = d[0]\n",
        "y = d[1]\n",
        "\n",
        "X_train, X_test, y_train, y_test = train_test_split(x, y, test_size=0.1, random_state=12)"
      ],
      "metadata": {
        "id": "-cfwRRBWoOCM"
      },
      "execution_count": 10,
      "outputs": []
    },
    {
      "cell_type": "code",
      "source": [
        "X_train = X_train.reshape((X_train.shape[0], X_train.shape[1]*X_train.shape[2]*X_train.shape[3]))\n",
        "X_test = X_test.reshape((X_test.shape[0], X_test.shape[1]*X_test.shape[2]*X_test.shape[3]))"
      ],
      "metadata": {
        "id": "EKPoNjVboXPQ"
      },
      "execution_count": 11,
      "outputs": []
    },
    {
      "cell_type": "code",
      "source": [
        "from tensorflow.keras.models import  Sequential\n",
        "from tensorflow.keras.layers import  MaxPooling2D,BatchNormalization,Dense,Flatten,Dropout"
      ],
      "metadata": {
        "id": "F5CT6o3koZ3Z"
      },
      "execution_count": 12,
      "outputs": []
    },
    {
      "cell_type": "code",
      "source": [
        "#Build the Model\n",
        "model = Sequential([\n",
        "    Flatten(),\n",
        "    Dense(128, activation= 'relu'),\n",
        "    Dropout(0.2),\n",
        "    Dense(5, activation='softmax')\n",
        "])"
      ],
      "metadata": {
        "id": "vaXQEBL-ocAP"
      },
      "execution_count": 13,
      "outputs": []
    },
    {
      "cell_type": "code",
      "source": [
        "#Compile & Train the model\n",
        "model.compile(optimizer='adam',\n",
        "              loss='sparse_categorical_crossentropy',\n",
        "              metrics=['accuracy'])   #calculates how often prediction equal lables"
      ],
      "metadata": {
        "id": "O6gJC-KZooU1"
      },
      "execution_count": 14,
      "outputs": []
    },
    {
      "cell_type": "code",
      "source": [
        "r = model.fit(X_train, y_train, validation_data=(X_test, y_test), epochs=50)"
      ],
      "metadata": {
        "id": "LZ9ywCT4pA5e",
        "colab": {
          "base_uri": "https://localhost:8080/"
        },
        "outputId": "a7ca76de-1b95-45ec-abac-59b55a392a2b"
      },
      "execution_count": 15,
      "outputs": [
        {
          "output_type": "stream",
          "name": "stdout",
          "text": [
            "Epoch 1/50\n",
            "245/245 [==============================] - 12s 47ms/step - loss: 1.5337 - accuracy: 0.7172 - val_loss: 0.7013 - val_accuracy: 0.7457\n",
            "Epoch 2/50\n",
            "245/245 [==============================] - 12s 48ms/step - loss: 0.6860 - accuracy: 0.7521 - val_loss: 0.6681 - val_accuracy: 0.7135\n",
            "Epoch 3/50\n",
            "245/245 [==============================] - 12s 49ms/step - loss: 0.6358 - accuracy: 0.7672 - val_loss: 0.6413 - val_accuracy: 0.7514\n",
            "Epoch 4/50\n",
            "245/245 [==============================] - 12s 49ms/step - loss: 0.6592 - accuracy: 0.7482 - val_loss: 0.6283 - val_accuracy: 0.7664\n",
            "Epoch 5/50\n",
            "245/245 [==============================] - 12s 50ms/step - loss: 0.6285 - accuracy: 0.7555 - val_loss: 0.6648 - val_accuracy: 0.7158\n",
            "Epoch 6/50\n",
            "245/245 [==============================] - 12s 50ms/step - loss: 0.5984 - accuracy: 0.7693 - val_loss: 0.6203 - val_accuracy: 0.7526\n",
            "Epoch 7/50\n",
            "245/245 [==============================] - 12s 49ms/step - loss: 0.6061 - accuracy: 0.7633 - val_loss: 0.6268 - val_accuracy: 0.7526\n",
            "Epoch 8/50\n",
            "245/245 [==============================] - 13s 51ms/step - loss: 0.5960 - accuracy: 0.7687 - val_loss: 0.6475 - val_accuracy: 0.7330\n",
            "Epoch 9/50\n",
            "245/245 [==============================] - 12s 50ms/step - loss: 0.5700 - accuracy: 0.7800 - val_loss: 0.6250 - val_accuracy: 0.7514\n",
            "Epoch 10/50\n",
            "245/245 [==============================] - 12s 49ms/step - loss: 0.5652 - accuracy: 0.7857 - val_loss: 0.6092 - val_accuracy: 0.7572\n",
            "Epoch 11/50\n",
            "245/245 [==============================] - 12s 48ms/step - loss: 0.5568 - accuracy: 0.7883 - val_loss: 0.6433 - val_accuracy: 0.7089\n",
            "Epoch 12/50\n",
            "245/245 [==============================] - 13s 52ms/step - loss: 0.5396 - accuracy: 0.7952 - val_loss: 0.5423 - val_accuracy: 0.7825\n",
            "Epoch 13/50\n",
            "245/245 [==============================] - 12s 50ms/step - loss: 0.5358 - accuracy: 0.7989 - val_loss: 0.5613 - val_accuracy: 0.7791\n",
            "Epoch 14/50\n",
            "245/245 [==============================] - 12s 49ms/step - loss: 0.5388 - accuracy: 0.8002 - val_loss: 0.5582 - val_accuracy: 0.7756\n",
            "Epoch 15/50\n",
            "245/245 [==============================] - 12s 49ms/step - loss: 0.5164 - accuracy: 0.8046 - val_loss: 0.5722 - val_accuracy: 0.7883\n",
            "Epoch 16/50\n",
            "245/245 [==============================] - 13s 51ms/step - loss: 0.5122 - accuracy: 0.8062 - val_loss: 0.5922 - val_accuracy: 0.7722\n",
            "Epoch 17/50\n",
            "245/245 [==============================] - 12s 51ms/step - loss: 0.5086 - accuracy: 0.8099 - val_loss: 0.5514 - val_accuracy: 0.7814\n",
            "Epoch 18/50\n",
            "245/245 [==============================] - 12s 48ms/step - loss: 0.4984 - accuracy: 0.8129 - val_loss: 0.5538 - val_accuracy: 0.7940\n",
            "Epoch 19/50\n",
            "245/245 [==============================] - 12s 48ms/step - loss: 0.4965 - accuracy: 0.8156 - val_loss: 0.5547 - val_accuracy: 0.7687\n",
            "Epoch 20/50\n",
            "245/245 [==============================] - 12s 51ms/step - loss: 0.5084 - accuracy: 0.8082 - val_loss: 0.5812 - val_accuracy: 0.7710\n",
            "Epoch 21/50\n",
            "245/245 [==============================] - 12s 50ms/step - loss: 0.5161 - accuracy: 0.8060 - val_loss: 0.5557 - val_accuracy: 0.7871\n",
            "Epoch 22/50\n",
            "245/245 [==============================] - 12s 51ms/step - loss: 0.5175 - accuracy: 0.8087 - val_loss: 0.5587 - val_accuracy: 0.7952\n",
            "Epoch 23/50\n",
            "245/245 [==============================] - 12s 48ms/step - loss: 0.4946 - accuracy: 0.8138 - val_loss: 0.5606 - val_accuracy: 0.7906\n",
            "Epoch 24/50\n",
            "245/245 [==============================] - 12s 47ms/step - loss: 0.4883 - accuracy: 0.8191 - val_loss: 0.5507 - val_accuracy: 0.8044\n",
            "Epoch 25/50\n",
            "245/245 [==============================] - 13s 55ms/step - loss: 0.4926 - accuracy: 0.8200 - val_loss: 0.5343 - val_accuracy: 0.7952\n",
            "Epoch 26/50\n",
            "245/245 [==============================] - 12s 48ms/step - loss: 0.4787 - accuracy: 0.8244 - val_loss: 0.5649 - val_accuracy: 0.7802\n",
            "Epoch 27/50\n",
            "245/245 [==============================] - 12s 48ms/step - loss: 0.4959 - accuracy: 0.8175 - val_loss: 0.6306 - val_accuracy: 0.7664\n",
            "Epoch 28/50\n",
            "245/245 [==============================] - 12s 50ms/step - loss: 0.4651 - accuracy: 0.8328 - val_loss: 0.6040 - val_accuracy: 0.8032\n",
            "Epoch 29/50\n",
            "245/245 [==============================] - 12s 48ms/step - loss: 0.4707 - accuracy: 0.8274 - val_loss: 0.5671 - val_accuracy: 0.7652\n",
            "Epoch 30/50\n",
            "245/245 [==============================] - 12s 49ms/step - loss: 0.4600 - accuracy: 0.8326 - val_loss: 0.5256 - val_accuracy: 0.8078\n",
            "Epoch 31/50\n",
            "245/245 [==============================] - 12s 48ms/step - loss: 0.4773 - accuracy: 0.8246 - val_loss: 0.5317 - val_accuracy: 0.7963\n",
            "Epoch 32/50\n",
            "245/245 [==============================] - 12s 49ms/step - loss: 0.4590 - accuracy: 0.8333 - val_loss: 0.5137 - val_accuracy: 0.8182\n",
            "Epoch 33/50\n",
            "245/245 [==============================] - 12s 50ms/step - loss: 0.4738 - accuracy: 0.8264 - val_loss: 0.5311 - val_accuracy: 0.7963\n",
            "Epoch 34/50\n",
            "245/245 [==============================] - 12s 48ms/step - loss: 0.4766 - accuracy: 0.8230 - val_loss: 0.5515 - val_accuracy: 0.7975\n",
            "Epoch 35/50\n",
            "245/245 [==============================] - 12s 49ms/step - loss: 0.4885 - accuracy: 0.8196 - val_loss: 0.5357 - val_accuracy: 0.8021\n",
            "Epoch 36/50\n",
            "245/245 [==============================] - 12s 49ms/step - loss: 0.4512 - accuracy: 0.8367 - val_loss: 0.6401 - val_accuracy: 0.8032\n",
            "Epoch 37/50\n",
            "245/245 [==============================] - 12s 48ms/step - loss: 0.4608 - accuracy: 0.8303 - val_loss: 0.5194 - val_accuracy: 0.7929\n",
            "Epoch 38/50\n",
            "245/245 [==============================] - 14s 57ms/step - loss: 0.4526 - accuracy: 0.8321 - val_loss: 0.5243 - val_accuracy: 0.7986\n",
            "Epoch 39/50\n",
            "245/245 [==============================] - 12s 50ms/step - loss: 0.4542 - accuracy: 0.8365 - val_loss: 0.5159 - val_accuracy: 0.8124\n",
            "Epoch 40/50\n",
            "245/245 [==============================] - 12s 49ms/step - loss: 0.4396 - accuracy: 0.8377 - val_loss: 0.5345 - val_accuracy: 0.8032\n",
            "Epoch 41/50\n",
            "245/245 [==============================] - 12s 48ms/step - loss: 0.4545 - accuracy: 0.8333 - val_loss: 0.5828 - val_accuracy: 0.7860\n",
            "Epoch 42/50\n",
            "245/245 [==============================] - 12s 49ms/step - loss: 0.4641 - accuracy: 0.8264 - val_loss: 0.5394 - val_accuracy: 0.8182\n",
            "Epoch 43/50\n",
            "245/245 [==============================] - 12s 49ms/step - loss: 0.4393 - accuracy: 0.8376 - val_loss: 0.6068 - val_accuracy: 0.8032\n",
            "Epoch 44/50\n",
            "245/245 [==============================] - 12s 48ms/step - loss: 0.4486 - accuracy: 0.8349 - val_loss: 0.5382 - val_accuracy: 0.8136\n",
            "Epoch 45/50\n",
            "245/245 [==============================] - 12s 48ms/step - loss: 0.4447 - accuracy: 0.8345 - val_loss: 0.5622 - val_accuracy: 0.7860\n",
            "Epoch 46/50\n",
            "245/245 [==============================] - 12s 48ms/step - loss: 0.4410 - accuracy: 0.8376 - val_loss: 0.5491 - val_accuracy: 0.8205\n",
            "Epoch 47/50\n",
            "245/245 [==============================] - 12s 48ms/step - loss: 0.4506 - accuracy: 0.8338 - val_loss: 0.4972 - val_accuracy: 0.8136\n",
            "Epoch 48/50\n",
            "245/245 [==============================] - 12s 48ms/step - loss: 0.4445 - accuracy: 0.8353 - val_loss: 0.6122 - val_accuracy: 0.8090\n",
            "Epoch 49/50\n",
            "245/245 [==============================] - 12s 49ms/step - loss: 0.4368 - accuracy: 0.8425 - val_loss: 0.5359 - val_accuracy: 0.8009\n",
            "Epoch 50/50\n",
            "245/245 [==============================] - 12s 49ms/step - loss: 0.4275 - accuracy: 0.8457 - val_loss: 0.5253 - val_accuracy: 0.8147\n"
          ]
        }
      ]
    },
    {
      "cell_type": "code",
      "source": [
        "#Plotting Loss per Iteration\n",
        "plt.plot(r.history['loss'], label= 'loss')\n",
        "plt.plot(r.history['val_loss'], label= 'val_loss')\n",
        "plt.legend()"
      ],
      "metadata": {
        "id": "hETqSydopDA9",
        "colab": {
          "base_uri": "https://localhost:8080/",
          "height": 282
        },
        "outputId": "4a2fd08b-a63e-4e4f-90ab-66c621982ded"
      },
      "execution_count": 16,
      "outputs": [
        {
          "output_type": "execute_result",
          "data": {
            "text/plain": [
              "<matplotlib.legend.Legend at 0x7f87d7027890>"
            ]
          },
          "metadata": {},
          "execution_count": 16
        },
        {
          "output_type": "display_data",
          "data": {
            "text/plain": [
              "<Figure size 432x288 with 1 Axes>"
            ],
            "image/png": "[encoded data removed]"
          },
          "metadata": {
            "needs_background": "light"
          }
        }
      ]
    },
    {
      "cell_type": "code",
      "source": [
        "#Plotting Accuracy per Iteration\n",
        "plt.plot(r.history['accuracy'], label= 'accuracy')\n",
        "plt.plot(r.history['val_accuracy'], label= 'val_accuracy')\n",
        "plt.legend()"
      ],
      "metadata": {
        "id": "wPmWv8D1qS2e",
        "colab": {
          "base_uri": "https://localhost:8080/",
          "height": 282
        },
        "outputId": "29b58bfa-fe6f-43f8-d9ae-470485cddc9e"
      },
      "execution_count": 17,
      "outputs": [
        {
          "output_type": "execute_result",
          "data": {
            "text/plain": [
              "<matplotlib.legend.Legend at 0x7f87d6f8b5d0>"
            ]
          },
          "metadata": {},
          "execution_count": 17
        },
        {
          "output_type": "display_data",
          "data": {
            "text/plain": [
              "<Figure size 432x288 with 1 Axes>"
            ],
            "image/png": "[encoded data removed]"
          },
          "metadata": {
            "needs_background": "light"
          }
        }
      ]
    },
    {
      "cell_type": "code",
      "source": [
        "#Model Evaluation\n",
        "print(model.evaluate(X_test, y_test))"
      ],
      "metadata": {
        "id": "rr8kjk9lqTTZ",
        "colab": {
          "base_uri": "https://localhost:8080/"
        },
        "outputId": "71df108b-cc05-4362-d0b7-fdd1c97701c6"
      },
      "execution_count": 18,
      "outputs": [
        {
          "output_type": "stream",
          "name": "stdout",
          "text": [
            "28/28 [==============================] - 0s 14ms/step - loss: 0.5253 - accuracy: 0.8147\n",
            "[0.5253239870071411, 0.8147295713424683]\n"
          ]
        }
      ]
    },
    {
      "cell_type": "code",
      "source": [
        "#Confusion Matrix\n",
        "from sklearn.metrics import confusion_matrix\n",
        "import itertools\n",
        "\n",
        "def plot_confusion_matrix(cm, classes,\n",
        "                          normalize = False,\n",
        "                          title=\"Confusion Matrix\",\n",
        "                          cmap = plt.cm.Blues):\n",
        "  \n",
        "  \"\"\"\n",
        "  This function prints and plots the confusion matrix.\n",
        "  Normalize can be applied by setting 'normalize = True'\n",
        "  \"\"\"\n",
        "  \n",
        "  if normalize:\n",
        "    cm = cm.astype('float') / cm.sum(axis=1)[:,np.newaxis]\n",
        "    print(\"Normalized Confusion Matrix\")\n",
        "  \n",
        "  else:\n",
        "    print(\"Confusion matrix without normalization\")\n",
        "  \n",
        "  print(cm)\n",
        "\n",
        "  plt.imshow(cm, interpolation='nearest', cmap=cmap)\n",
        "  plt.title(title)\n",
        "  plt.colorbar()\n",
        "  tick_marks = np.arange(len(classes))\n",
        "  plt.xticks(tick_marks, classes, rotation=45)\n",
        "  plt.yticks(tick_marks, classes)\n",
        "\n",
        "  fmt = '.2f' if normalize else 'd'\n",
        "  thresh = cm.max() / 2.\n",
        "  for i, j in itertools.product(range(cm.shape[0]), range(cm.shape[1])):\n",
        "    plt.text(j, i, format(cm[i, j], fmt),\n",
        "             horizontalalignment = 'center',\n",
        "             color = \"white\" if cm[i, j] > thresh else \"black\")\n",
        "    \n",
        "  plt.tight_layout()\n",
        "  plt.ylabel('True label')\n",
        "  plt.xlabel('Predicted label')\n",
        "  plt.show()\n",
        "\n",
        "p_test = model.predict(X_test).argmax(axis=1)\n",
        "cm = confusion_matrix(y_test, p_test)\n",
        "plot_confusion_matrix(cm, list(range(10)))"
      ],
      "metadata": {
        "id": "AW8y9XB2qVQd",
        "colab": {
          "base_uri": "https://localhost:8080/",
          "height": 415
        },
        "outputId": "f4968530-0177-4a86-9612-0cbdaec290d8"
      },
      "execution_count": 19,
      "outputs": [
        {
          "output_type": "stream",
          "name": "stdout",
          "text": [
            "Confusion matrix without normalization\n",
            "[[ 28   5   0  40  15]\n",
            " [  3 508   0   0   5]\n",
            " [  0   1   0   4  22]\n",
            " [  2   4   0  92  19]\n",
            " [  4   4   0  33  80]]\n"
          ]
        },
        {
          "output_type": "display_data",
          "data": {
            "text/plain": [
              "<Figure size 432x288 with 2 Axes>"
            ],
            "image/png": "[encoded data removed]"
          },
          "metadata": {
            "needs_background": "light"
          }
        }
      ]
    },
    {
      "cell_type": "markdown",
      "source": [
        "Plotting few Places where the Model went wrong"
      ],
      "metadata": {
        "id": "TO6ss3HVqoi8"
      }
    },
    {
      "cell_type": "code",
      "source": [
        "misclassified_idx = np.where(p_test != y_test)[0]\n",
        "i = np.random.choice(misclassified_idx)\n",
        "i = np.expand_dims(i, axis=0)\n",
        "plt.imshow(X_test[i], cmap= 'gray')\n",
        "plt.title(\"True label: %s Predicted: %s\" % (y_test[i], p_test[i]));"
      ],
      "metadata": {
        "id": "DTxpaihsqp_Y",
        "colab": {
          "base_uri": "https://localhost:8080/",
          "height": 64
        },
        "outputId": "dbb26a24-c99b-4e65-deef-1236e68c8dcf"
      },
      "execution_count": 20,
      "outputs": [
        {
          "output_type": "display_data",
          "data": {
            "text/plain": [
              "<Figure size 432x288 with 1 Axes>"
            ],
            "image/png": "[encoded data removed]"
          },
          "metadata": {
            "needs_background": "light"
          }
        }
      ]
    }
  ]
}